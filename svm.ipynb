{
 "cells": [
  {
   "cell_type": "markdown",
   "metadata": {},
   "source": [
    "Implementation of an SVM classifier.\n",
    "To do:\n",
    "- split the data in test and train,\n",
    "- remove key column,\n",
    "- test different kernels,\n",
    "- optimize the parameters for each kernel."
   ]
  },
  {
   "cell_type": "code",
   "execution_count": 12,
   "metadata": {},
   "outputs": [],
   "source": [
    "# Imports\n",
    "import numpy as np\n",
    "import data_preprocessing as dp\n",
    "from sklearn.model_selection import train_test_split\n",
    "from sklearn.metrics import confusion_matrix, accuracy_score\n",
    "from sklearn.svm import SVC\n",
    "from sklearn.model_selection import GridSearchCV"
   ]
  },
  {
   "cell_type": "code",
   "execution_count": 7,
   "metadata": {},
   "outputs": [],
   "source": [
    "# Importing the data\n",
    "data = dp.data_preprocessing('project_train.csv')\n",
    "\n",
    "# Remove colum 'key'\n",
    "data = data.drop('key', axis=1)\n",
    "\n",
    "# Splitting the data into X and y\n",
    "X = data.iloc[:, :-1].values\n",
    "y = data.iloc[:, -1].values\n",
    "\n",
    "# Splitting the data into training and test set\n",
    "X_train, X_test, y_train, y_test = train_test_split(X, y, test_size=0.2, random_state=0)"
   ]
  },
  {
   "cell_type": "markdown",
   "metadata": {},
   "source": [
    "Gaussian kernel.\n",
    "$$exp(-\\gamma\\|x-x'\\|^2)$$\n",
    "Parameters:\n",
    "- C correpsonds to trading against simplicity and complexity of the decision surface,\n",
    "- $\\gamma$ corresponds to how far goes the influence of a single example."
   ]
  },
  {
   "cell_type": "code",
   "execution_count": 14,
   "metadata": {},
   "outputs": [],
   "source": [
    "# Implement SVM with gaussian kernel and optimize the hyperparameters\n",
    "\n",
    "def svm_gaussian(X_train, y_train, X_test, y_test):\n",
    "    # Search for the best hyperparameters\n",
    "    parameters = [{'C': [1, 10, 100, 1000], 'gamma': [0.001, 0.01, 0.1, 1], 'kernel': ['rbf']}]\n",
    "    classifier = SVC()\n",
    "    grid_search = GridSearchCV(estimator=classifier, param_grid=parameters, scoring='accuracy', cv=10, n_jobs=-1)\n",
    "    grid_search = grid_search.fit(X_train, y_train)\n",
    "    best_parameters = grid_search.best_params_\n",
    "    \n",
    "    # Test best parameters\n",
    "    test_classifier = SVC(C=best_parameters['C'], gamma=best_parameters['gamma'], kernel=best_parameters['kernel'])\n",
    "    test_classifier.fit(X_train, y_train)\n",
    "    y_pred = test_classifier.predict(X_test)\n",
    "\n",
    "    # Confusion matrix\n",
    "    cm = confusion_matrix(y_test, y_pred)\n",
    "\n",
    "    # Accuracy score\n",
    "    accuracy = accuracy_score(y_test, y_pred)\n",
    "\n",
    "    return cm, accuracy"
   ]
  },
  {
   "cell_type": "code",
   "execution_count": 15,
   "metadata": {},
   "outputs": [
    {
     "name": "stdout",
     "output_type": "stream",
     "text": [
      "[[49  4]\n",
      " [13 35]]\n",
      "0.8316831683168316\n"
     ]
    }
   ],
   "source": [
    "cm, accuracy = svm_gaussian(X_train, y_train, X_test, y_test)\n",
    "print(cm)\n",
    "print(accuracy)"
   ]
  },
  {
   "cell_type": "markdown",
   "metadata": {},
   "source": [
    "Polynomial kernel. \n",
    "$$(\\langle x, x'\\rangle + r)^d$$\n",
    "Parameters:\n",
    "- degree d of the polynomial (degree),\n",
    "- offset r (coef0)."
   ]
  },
  {
   "cell_type": "code",
   "execution_count": 18,
   "metadata": {},
   "outputs": [],
   "source": [
    "def polynomial_svm(X_train, y_train, X_test, y_test):\n",
    "    # Search for the best hyperparameters\n",
    "    parameters = [{'C': [1, 10, 100, 1000], 'degree': [2, 3, 4], 'kernel': ['poly']}]\n",
    "    classifier = SVC()\n",
    "    grid_search = GridSearchCV(estimator=classifier, param_grid=parameters, scoring='accuracy', cv=10, n_jobs=-1)\n",
    "    grid_search = grid_search.fit(X_train, y_train)\n",
    "    best_parameters = grid_search.best_params_\n",
    "    print(best_parameters)\n",
    "    \n",
    "    # Test best parameters\n",
    "    test_classifier = SVC(C=best_parameters['C'], degree=best_parameters['degree'], kernel=best_parameters['kernel'])\n",
    "    test_classifier.fit(X_train, y_train)\n",
    "    y_pred = test_classifier.predict(X_test)\n",
    "\n",
    "    # Confusion matrix\n",
    "    cm = confusion_matrix(y_test, y_pred)\n",
    "\n",
    "    # Accuracy score\n",
    "    accuracy = accuracy_score(y_test, y_pred)\n",
    "\n",
    "    return cm, accuracy"
   ]
  },
  {
   "cell_type": "code",
   "execution_count": 19,
   "metadata": {},
   "outputs": [
    {
     "name": "stdout",
     "output_type": "stream",
     "text": [
      "{'C': 100, 'degree': 2, 'kernel': 'poly'}\n",
      "[[49  4]\n",
      " [13 35]]\n",
      "0.8316831683168316\n"
     ]
    }
   ],
   "source": [
    "cm, accuracy = polynomial_svm(X_train, y_train, X_test, y_test)\n",
    "print(cm)\n",
    "print(accuracy)"
   ]
  },
  {
   "cell_type": "markdown",
   "metadata": {},
   "source": [
    "Sigmoid tanh kernel.\n",
    "$$tanh(\\gamma \\langle x, x'\\rangle + r)$$"
   ]
  },
  {
   "cell_type": "code",
   "execution_count": 22,
   "metadata": {},
   "outputs": [],
   "source": [
    "def sigmoid_svm(X_train, y_train, X_test, y_test):\n",
    "    # Search for the best hyperparameters\n",
    "    parameters = [{'C': [1, 10, 100, 1000, 10000], 'gamma': [0.0001, 0.001, 0.01, 0.1, 1], 'kernel': ['sigmoid']}]\n",
    "    classifier = SVC()\n",
    "    grid_search = GridSearchCV(estimator=classifier, param_grid=parameters, scoring='accuracy', cv=10, n_jobs=-1)\n",
    "    grid_search = grid_search.fit(X_train, y_train)\n",
    "    best_parameters = grid_search.best_params_\n",
    "    print(best_parameters)\n",
    "    \n",
    "    # Test best parameters\n",
    "    test_classifier = SVC(C=best_parameters['C'], gamma=best_parameters['gamma'], kernel=best_parameters['kernel'])\n",
    "    test_classifier.fit(X_train, y_train)\n",
    "    y_pred = test_classifier.predict(X_test)\n",
    "\n",
    "    # Confusion matrix\n",
    "    cm = confusion_matrix(y_test, y_pred)\n",
    "\n",
    "    # Accuracy score\n",
    "    accuracy = accuracy_score(y_test, y_pred)\n",
    "\n",
    "    return cm, accuracy"
   ]
  },
  {
   "cell_type": "code",
   "execution_count": 24,
   "metadata": {},
   "outputs": [
    {
     "name": "stdout",
     "output_type": "stream",
     "text": [
      "{'C': 1000, 'gamma': 0.001, 'kernel': 'sigmoid'}\n",
      "[[48  5]\n",
      " [14 34]]\n",
      "0.8118811881188119\n"
     ]
    }
   ],
   "source": [
    "cm, accuracy = sigmoid_svm(X_train, y_train, X_test, y_test)\n",
    "print(cm)\n",
    "print(accuracy)"
   ]
  }
 ],
 "metadata": {
  "kernelspec": {
   "display_name": "base",
   "language": "python",
   "name": "python3"
  },
  "language_info": {
   "codemirror_mode": {
    "name": "ipython",
    "version": 3
   },
   "file_extension": ".py",
   "mimetype": "text/x-python",
   "name": "python",
   "nbconvert_exporter": "python",
   "pygments_lexer": "ipython3",
   "version": "3.11.5"
  }
 },
 "nbformat": 4,
 "nbformat_minor": 2
}
